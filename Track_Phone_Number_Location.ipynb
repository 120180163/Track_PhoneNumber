{
 "cells": [
  {
   "cell_type": "markdown",
   "metadata": {},
   "source": [
    "# Required\n",
    "### Install the phonenumbers module by typing the following command in command prompt.\n",
    "\n",
    "# pip install phonenumbers"
   ]
  },
  {
   "cell_type": "code",
   "execution_count": 1,
   "metadata": {},
   "outputs": [],
   "source": [
    "import phonenumbers\n",
    "from test import number\n",
    "from phonenumbers import geocoder"
   ]
  },
  {
   "cell_type": "code",
   "execution_count": 2,
   "metadata": {},
   "outputs": [
    {
     "ename": "NumberParseException",
     "evalue": "(1) The string supplied did not seem to be a phone number.",
     "output_type": "error",
     "traceback": [
      "\u001b[0;31m---------------------------------------------------------------------------\u001b[0m",
      "\u001b[0;31mNumberParseException\u001b[0m                      Traceback (most recent call last)",
      "\u001b[0;32m<ipython-input-2-8af8de702118>\u001b[0m in \u001b[0;36m<module>\u001b[0;34m\u001b[0m\n\u001b[0;32m----> 1\u001b[0;31m \u001b[0mch_nmber\u001b[0m \u001b[0;34m=\u001b[0m \u001b[0mphonenumbers\u001b[0m\u001b[0;34m.\u001b[0m\u001b[0mparse\u001b[0m\u001b[0;34m(\u001b[0m\u001b[0mnumber\u001b[0m\u001b[0;34m,\u001b[0m \u001b[0;34m'PS'\u001b[0m\u001b[0;34m)\u001b[0m\u001b[0;34m\u001b[0m\u001b[0;34m\u001b[0m\u001b[0m\n\u001b[0m\u001b[1;32m      2\u001b[0m \u001b[0mprint\u001b[0m\u001b[0;34m(\u001b[0m\u001b[0mgeocoder\u001b[0m\u001b[0;34m.\u001b[0m\u001b[0mdescription_for_number\u001b[0m\u001b[0;34m(\u001b[0m\u001b[0mch_nmber\u001b[0m \u001b[0;34m,\u001b[0m \u001b[0;34m'en'\u001b[0m\u001b[0;34m)\u001b[0m\u001b[0;34m)\u001b[0m\u001b[0;34m\u001b[0m\u001b[0;34m\u001b[0m\u001b[0m\n",
      "\u001b[0;32m~/opt/anaconda3/lib/python3.8/site-packages/phonenumbers/phonenumberutil.py\u001b[0m in \u001b[0;36mparse\u001b[0;34m(number, region, keep_raw_input, numobj, _check_region)\u001b[0m\n\u001b[1;32m   2842\u001b[0m \u001b[0;34m\u001b[0m\u001b[0m\n\u001b[1;32m   2843\u001b[0m     \u001b[0;32mif\u001b[0m \u001b[0;32mnot\u001b[0m \u001b[0m_is_viable_phone_number\u001b[0m\u001b[0;34m(\u001b[0m\u001b[0mnational_number\u001b[0m\u001b[0;34m)\u001b[0m\u001b[0;34m:\u001b[0m\u001b[0;34m\u001b[0m\u001b[0;34m\u001b[0m\u001b[0m\n\u001b[0;32m-> 2844\u001b[0;31m         raise NumberParseException(NumberParseException.NOT_A_NUMBER,\n\u001b[0m\u001b[1;32m   2845\u001b[0m                                    \"The string supplied did not seem to be a phone number.\")\n\u001b[1;32m   2846\u001b[0m \u001b[0;34m\u001b[0m\u001b[0m\n",
      "\u001b[0;31mNumberParseException\u001b[0m: (1) The string supplied did not seem to be a phone number."
     ]
    }
   ],
   "source": [
    "ch_nmber = phonenumbers.parse(number, 'PS')\n",
    "print(geocoder.description_for_number(ch_nmber , 'en'))"
   ]
  },
  {
   "cell_type": "code",
   "execution_count": 4,
   "metadata": {},
   "outputs": [],
   "source": [
    "# Text Input \n",
    "text = 'Contact us at +919876543210 or +14691234567 or1 +970592513063'\n",
    "\n",
    "# Pass the text and country code to the below function \n",
    "numbers = phonenumbers.PhoneNumberMatcher(text, \"IN\")"
   ]
  },
  {
   "cell_type": "code",
   "execution_count": 5,
   "metadata": {},
   "outputs": [
    {
     "name": "stdout",
     "output_type": "stream",
     "text": [
      "PhoneNumberMatch [14,27) +919876543210\n",
      "PhoneNumberMatch [48,61) +970592513063\n"
     ]
    }
   ],
   "source": [
    "# Printing the phone numbers matched with country code \n",
    "# and also the indexes of the phone numbers in the string input \n",
    "for number in numbers:\n",
    "    print(number)"
   ]
  },
  {
   "cell_type": "code",
   "execution_count": 6,
   "metadata": {},
   "outputs": [],
   "source": [
    "# Program to find carrier and region \n",
    "# of a phone number \n",
    "from phonenumbers import geocoder, carrier \n",
    "\n",
    "# Parsing String to Phone number \n",
    "phoneNumber = phonenumbers.parse(\"+970592513063\") \n",
    "\n",
    "# Getting carrier of a phone number \n",
    "Carrier = carrier.name_for_number(phoneNumber, 'en') \n",
    "  \n",
    "# Getting region information \n",
    "Region = geocoder.description_for_number(phoneNumber, 'en') \n"
   ]
  },
  {
   "cell_type": "code",
   "execution_count": 7,
   "metadata": {},
   "outputs": [
    {
     "name": "stdout",
     "output_type": "stream",
     "text": [
      "Palestine Cellular Communications\n",
      "Palestine\n"
     ]
    }
   ],
   "source": [
    "# Printing the carrier and region of a phone number \n",
    "print(Carrier) \n",
    "print(Region)"
   ]
  },
  {
   "cell_type": "code",
   "execution_count": 80,
   "metadata": {},
   "outputs": [],
   "source": [
    "# Parsing String to Phone number \n",
    "phone_number = phonenumbers.parse(\"+972592513063\") \n",
    "\n",
    "# Validating a phone number \n",
    "valid = phonenumbers.is_valid_number(phone_number) \n",
    "  \n",
    "# Checking possibility of a number \n",
    "possible = phonenumbers.is_possible_number(phone_number) "
   ]
  },
  {
   "cell_type": "code",
   "execution_count": 79,
   "metadata": {},
   "outputs": [
    {
     "name": "stdout",
     "output_type": "stream",
     "text": [
      "False\n",
      "True\n"
     ]
    }
   ],
   "source": [
    "# Printing the output \n",
    "print(valid)\n",
    "print(possible) "
   ]
  },
  {
   "cell_type": "code",
   "execution_count": 77,
   "metadata": {},
   "outputs": [
    {
     "name": "stdout",
     "output_type": "stream",
     "text": [
      "('Etc/Unknown',)\n"
     ]
    }
   ],
   "source": [
    "# Program to get timezone a phone number \n",
    "from phonenumbers import timezone \n",
    "\n",
    "# Parsing String to Phone number \n",
    "phoneNumber = phonenumbers.parse(\"+97592513063\") \n",
    "\n",
    "# Pass the parsed phone number in below function \n",
    "timeZone = timezone.time_zones_for_number(phoneNumber) \n",
    "  \n",
    "# It print the timezone of a phonenumber \n",
    "print(timeZone)"
   ]
  },
  {
   "cell_type": "code",
   "execution_count": null,
   "metadata": {},
   "outputs": [],
   "source": []
  }
 ],
 "metadata": {
  "kernelspec": {
   "display_name": "Python 3",
   "language": "python",
   "name": "python3"
  },
  "language_info": {
   "codemirror_mode": {
    "name": "ipython",
    "version": 3
   },
   "file_extension": ".py",
   "mimetype": "text/x-python",
   "name": "python",
   "nbconvert_exporter": "python",
   "pygments_lexer": "ipython3",
   "version": "3.8.5"
  }
 },
 "nbformat": 4,
 "nbformat_minor": 4
}
